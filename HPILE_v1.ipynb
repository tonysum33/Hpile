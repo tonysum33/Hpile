{
 "cells": [
  {
   "cell_type": "code",
   "execution_count": 1,
   "id": "anonymous-dance",
   "metadata": {
    "hide_input": false
   },
   "outputs": [],
   "source": [
    "import matplotlib.pyplot as plt\n",
    "import math\n",
    "import pandas as pd\n",
    "import handcalcs.render"
   ]
  },
  {
   "cell_type": "markdown",
   "id": "e794f56e",
   "metadata": {},
   "source": [
    "# 基本輸入資料"
   ]
  },
  {
   "cell_type": "markdown",
   "id": "banned-finger",
   "metadata": {
    "hide_input": true
   },
   "source": [
    "## 外力資料"
   ]
  },
  {
   "cell_type": "code",
   "execution_count": 2,
   "id": "8ffca8c2",
   "metadata": {
    "hide_input": false
   },
   "outputs": [
    {
     "data": {
      "text/latex": [
       "\\[\n",
       "\\begin{aligned}\n",
       "\\mathrm{forceP} &= 20 \\; \\;\\textrm{(tf,垂直力)}\n",
       "\\\\[10pt]\n",
       "\\mathrm{forceH} &= 50 \\; \\;\\textrm{(tf,水平力)}\n",
       "\\end{aligned}\n",
       "\\]"
      ],
      "text/plain": [
       "<IPython.core.display.Latex object>"
      ]
     },
     "metadata": {},
     "output_type": "display_data"
    }
   ],
   "source": [
    "%%render  \n",
    "forceP = 20 # tf,垂直力\n",
    "forceH = 50 # tf,水平力"
   ]
  },
  {
   "cell_type": "markdown",
   "id": "recovered-accordance",
   "metadata": {},
   "source": [
    "## 基樁資料"
   ]
  },
  {
   "cell_type": "code",
   "execution_count": 3,
   "id": "ef09d8af",
   "metadata": {},
   "outputs": [
    {
     "data": {
      "text/latex": [
       "\\[\n",
       "\\begin{aligned}\n",
       "\\mathrm{pile}_{D} &= 80 \\; \\;\\textrm{(cm, 樁徑)}\n",
       "\\\\[10pt]\n",
       "\\mathrm{pile}_{L} &= 3500 \\; \\;\\textrm{(cm, 樁長)}\n",
       "\\\\[10pt]\n",
       "\\mathrm{pile}_{ht} &= 0 \\; \\;\\textrm{(cm, 突出地面樁長)}\n",
       "\\\\[10pt]\n",
       "\\mathrm{fc'} &= 210 \\; \\;\\textrm{(kgf/cm2, 混凝土強度)}\n",
       "\\\\[10pt]\n",
       "\\mathrm{kh} &= 0.992 \\; \\;\\textrm{(kgf/cm3)}\n",
       "\\end{aligned}\n",
       "\\]"
      ],
      "text/plain": [
       "<IPython.core.display.Latex object>"
      ]
     },
     "metadata": {},
     "output_type": "display_data"
    }
   ],
   "source": [
    "%%render\n",
    "pile_D =    80 # cm, 樁徑\n",
    "pile_L =  3500 # cm, 樁長\n",
    "pile_ht =    0 # cm, 突出地面樁長 \n",
    "fc_prime = 210 # kgf/cm2, 混凝土強度\n",
    "kh = 0.992     # kgf/cm3"
   ]
  },
  {
   "cell_type": "code",
   "execution_count": 4,
   "id": "changed-match",
   "metadata": {
    "hide_input": false,
    "jupyter": {
     "source_hidden": true
    }
   },
   "outputs": [
    {
     "data": {
      "text/latex": [
       "\\[\n",
       "\\begin{aligned}\n",
       "\\mathrm{Ap} &= \\frac{ 1 }{ 4 } \\cdot \\mathrm{math.pi} \\cdot \\left( \\mathrm{pile}_{D} \\right) ^{ 2 }  = \\frac{ 1 }{ 4 } \\cdot math.pi \\cdot \\left( 80 \\right) ^{ 2 } &= 5026.548 \\; \\;\\textrm{(cm2)}\n",
       "\\\\[10pt]\n",
       "\\mathrm{Ip} &= \\frac{ 1 }{ 64 } \\cdot \\mathrm{math.pi} \\cdot \\left( \\mathrm{pile}_{D} \\right) ^{ 4 }  = \\frac{ 1 }{ 64 } \\cdot math.pi \\cdot \\left( 80 \\right) ^{ 4 } &= 2010619.298 \\; \\;\\textrm{(cm4)}\n",
       "\\\\[10pt]\n",
       "\\mathrm{Ep} &= 15100 \\cdot \\mathrm{math.sqrt} { \\mathrm{fc'} }  = 15100 \\cdot math.sqrt { 210 } &= 218819.789 \\; \\;\\textrm{(kgf/cm2)}\n",
       "\\end{aligned}\n",
       "\\]"
      ],
      "text/plain": [
       "<IPython.core.display.Latex object>"
      ]
     },
     "metadata": {},
     "output_type": "display_data"
    }
   ],
   "source": [
    "%%render\n",
    "Ap = 1/4 * math.pi * pile_D**2 # cm2\n",
    "Ip = 1/64* math.pi * pile_D**4 # cm4\n",
    "Ep = 15100 * math.sqrt(fc_prime) # kgf/cm2"
   ]
  },
  {
   "cell_type": "code",
   "execution_count": 5,
   "id": "fourth-setup",
   "metadata": {
    "hide_input": true
   },
   "outputs": [
    {
     "data": {
      "text/latex": [
       "\\[\n",
       "\\begin{aligned}\n",
       "\\beta &= \\operatorname{pow} { \\left( \\frac{ \\mathrm{kh} \\cdot \\mathrm{pile}_{D} }{ 4 \\cdot \\mathrm{Ep} \\cdot \\mathrm{Ip} } ,\\  0.25 \\right) } \\\\&= \\operatorname{pow} { \\left( \\frac{ 0.992 \\cdot 80 }{ 4 \\cdot 218819.789 \\cdot 2010619.298 } ,\\  0.25 \\right) } \\\\&= 2.591 \\times 10 ^ {-3 } \\; \\;\\textrm{(1/cm)}\\\\\n",
       "\\\\[10pt]\n",
       "\\beta_{L} &= \\beta \\cdot \\mathrm{pile}_{L}  = 2.591 \\times 10 ^ {-3 } \\cdot 3500 &= 9.07  \n",
       "\\end{aligned}\n",
       "\\]"
      ],
      "text/plain": [
       "<IPython.core.display.Latex object>"
      ]
     },
     "metadata": {},
     "output_type": "display_data"
    }
   ],
   "source": [
    "%%render  \n",
    "beta = pow((kh*pile_D)/(4*Ep*Ip),0.25) # 1/cm\n",
    "beta_L = beta*pile_L "
   ]
  },
  {
   "cell_type": "code",
   "execution_count": 6,
   "id": "broken-banana",
   "metadata": {},
   "outputs": [
    {
     "data": {
      "text/latex": [
       "\\[\n",
       "\\begin{aligned}\n",
       "&\\text{Since, } \\beta_{L} \\lt 300.0 \\rightarrow \\left( 9.07 \\lt 300.0 \\right) : \\; \\;\\textrm{(短樁)} \\end{aligned}\n",
       "\\]\n",
       "\\[\n",
       "\\begin{aligned}\n",
       "\\mathrm{isLongPile} &= \\mathrm{False} \\; \n",
       "\\end{aligned}\n",
       "\\]"
      ],
      "text/plain": [
       "<IPython.core.display.Latex object>"
      ]
     },
     "metadata": {},
     "output_type": "display_data"
    }
   ],
   "source": [
    "%%render symbol\n",
    "if beta_L >= 300.0 : isLongPile = True   # 長樁\n",
    "elif beta_L < 300.0: isLongPile = False  # 短樁"
   ]
  },
  {
   "cell_type": "markdown",
   "id": "considerable-pound",
   "metadata": {
    "hide_input": false
   },
   "source": [
    "## 基樁反力與變位"
   ]
  },
  {
   "cell_type": "code",
   "execution_count": 7,
   "id": "checked-painting",
   "metadata": {
    "code_folding": [
     0
    ],
    "hide_input": true
   },
   "outputs": [],
   "source": [
    "def plotPile(coordzList,displacementList,shearList,momentList):\n",
    "    plt.rcParams['font.sans-serif'] = ['Microsoft JhengHei'] \n",
    "    plt.rcParams['axes.unicode_minus'] = False\n",
    "    plt.figure(figsize=(12,6))\n",
    "    plt.yticks(fontsize=12)\n",
    "    plt.xticks(fontsize=12)\n",
    "\n",
    "    #plot 1:\n",
    "    plt.subplot(1, 3, 1)\n",
    "    plt.title(\"displacement (cm)\")\n",
    "    plt.ylabel(\"depth (m)\",fontsize=12)\n",
    "    lines= plt.plot(displacementList,coordzList)\n",
    "    plt.setp(lines,c='red',linestyle='--') \n",
    "\n",
    "    #plot 2:\n",
    "    plt.subplot(1, 3, 2)\n",
    "    plt.title(\"shear (tf)\")\n",
    "    plt.ylabel(\"depth (m)\",fontsize=12)\n",
    "    lines= plt.plot(shearList,coordzList)\n",
    "    plt.setp(lines,c='red',linestyle='--') \n",
    "\n",
    "    #plot 3:\n",
    "    plt.subplot(1, 3, 3)\n",
    "    plt.title(\"moment (tf-m)\")\n",
    "    plt.ylabel(\"depth (m)\",fontsize=12)\n",
    "    lines= plt.plot(momentList,coordzList)\n",
    "    plt.setp(lines,c='red',linestyle='--') \n",
    "\n",
    "    plt.subplots_adjust(left=0.125,\n",
    "                        bottom=0.1, \n",
    "                        right=0.9, \n",
    "                        top=0.9, \n",
    "                        wspace=0.5, \n",
    "                        hspace=0.35)\n",
    "\n",
    "    plt.show()"
   ]
  },
  {
   "cell_type": "code",
   "execution_count": 8,
   "id": "furnished-suicide",
   "metadata": {
    "code_folding": []
   },
   "outputs": [],
   "source": [
    "def printDataFrame(coordzList, displacementList, momentList, shearList):\n",
    "\n",
    "    data = {'Depth': coordzList,\n",
    "            'Moment': momentList,\n",
    "            'Shear': shearList,\n",
    "            'Displacement': displacementList,\n",
    "            }\n",
    "    pd.options.display.float_format = '{:15.3f}'.format\n",
    "\n",
    "    df = pd.DataFrame(data)\n",
    "    df['Depth'] = df['Depth'].map('{:,.2f}'.format)\n",
    "\n",
    "    pd.set_option('display.unicode.ambiguous_as_wide', True)\n",
    "    pd.set_option('display.unicode.east_asian_width', True)\n",
    "\n",
    "    max_moment = df.Moment.abs().max()\n",
    "    max_shear = df.Shear.abs().max()\n",
    "    max_displacement = df.Displacement.abs().max()\n",
    "    \n",
    "    print(df)\n",
    "    print(\"\")\n",
    "    print(f\"Moment        Max = {max_moment:8.2f} tf-m\")\n",
    "    print(f\"Shear         Max = {max_shear:8.2f} tf\")\n",
    "    print(f\"Displacement  Max = {max_displacement:8.2f} cm\")\n",
    "    return max_moment, max_shear, max_displacement"
   ]
  },
  {
   "cell_type": "code",
   "execution_count": 9,
   "id": "roman-wesley",
   "metadata": {
    "hide_input": false,
    "jupyter": {
     "source_hidden": true
    }
   },
   "outputs": [],
   "source": [
    "PILEDIVIDE = 50 # cm\n",
    "num =  int(pile_L/PILEDIVIDE)+1"
   ]
  },
  {
   "cell_type": "markdown",
   "id": "equal-scholarship",
   "metadata": {},
   "source": [
    "### 突出地面之樁-樁頭拘束情形\n",
    "---"
   ]
  },
  {
   "cell_type": "code",
   "execution_count": 10,
   "id": "tropical-peter",
   "metadata": {
    "code_folding": [],
    "hide_input": true
   },
   "outputs": [],
   "source": [
    "# 突出地面之樁-樁頭拘束情形\n",
    "coordzList=[]  # m\n",
    "momentList=[]  # tf-m\n",
    "shearList=[]   # tf\n",
    "displacementList=[] # cm\n",
    "for i in range(num):\n",
    "    coordz = i * PILEDIVIDE\n",
    "    \n",
    "    if coordz < pile_ht:\n",
    "        coordz = (coordz - pile_ht)\n",
    "\n",
    "        displacementList.append(1000*forceH/(12*Ep*Ip*beta**3)*(\n",
    "            +2*beta**3*coordz**3\n",
    "            -3*(1-beta*pile_ht)*beta**3*coordz**2\n",
    "            -6*beta**2*pile_ht*coordz\n",
    "            +3*(1+beta*pile_ht)))\n",
    "        \n",
    "        momentList.append(forceH/100/(2*beta)*(-2*beta*coordz+(1-beta*pile_ht)))\n",
    "        shearList.append(-forceH)\n",
    "                          \n",
    "    else:\n",
    "        coordz = (coordz - pile_ht)\n",
    "\n",
    "        displacementList.append(1000*forceH/(4*Ep*Ip*beta**3)*\n",
    "                                math.exp(-beta*coordz)*(\n",
    "            (1+beta*pile_ht)*math.cos(beta*coordz)+\n",
    "            (1-beta*pile_ht)*math.sin(beta*coordz)))\n",
    "        \n",
    "        momentList.append(forceH/100/(2*beta)*math.exp(-beta*coordz)*(\n",
    "            (1-beta*pile_ht)*math.cos(beta*coordz)-\n",
    "            (1+beta*pile_ht)*math.sin(beta*coordz)))\n",
    "        shearList.append(-forceH*math.exp(-beta*coordz)*(\n",
    "            math.cos(beta*coordz)-(beta*pile_ht)*\n",
    "            math.sin(beta*coordz)))\n",
    "        \n",
    "    coordzList.append(-coordz/100)"
   ]
  },
  {
   "cell_type": "code",
   "execution_count": 11,
   "id": "infectious-biography",
   "metadata": {
    "hide_input": true
   },
   "outputs": [
    {
     "name": "stdout",
     "output_type": "stream",
     "text": [
      "     Depth          Moment           Shear    Displacement\n",
      "0     0.00          96.474         -50.000           1.633\n",
      "1    -0.50          73.089         -43.556           1.608\n",
      "2    -1.00          52.887         -37.297           1.541\n",
      "3    -1.50          35.736         -31.368           1.444\n",
      "4    -2.00          21.447         -25.867           1.326\n",
      "..     ...             ...             ...             ...\n",
      "66  -33.00          -0.026           0.006           0.000\n",
      "67  -33.50          -0.023           0.006          -0.000\n",
      "68  -34.00          -0.020           0.006          -0.000\n",
      "69  -34.50          -0.017           0.006          -0.000\n",
      "70  -35.00          -0.014           0.005          -0.000\n",
      "\n",
      "[71 rows x 4 columns]\n",
      "\n",
      "Moment        Max =    96.47 tf-m\n",
      "Shear         Max =    50.00 tf\n",
      "Displacement  Max =     1.63 cm\n"
     ]
    }
   ],
   "source": [
    "moment1, shear1, displacement1 = printDataFrame(coordzList,displacementList,momentList,shearList)"
   ]
  },
  {
   "cell_type": "code",
   "execution_count": 12,
   "id": "german-perth",
   "metadata": {},
   "outputs": [
    {
     "data": {
      "image/png": "[encoded data removed]",
      "text/plain": [
       "<Figure size 864x432 with 3 Axes>"
      ]
     },
     "metadata": {
      "needs_background": "light"
     },
     "output_type": "display_data"
    }
   ],
   "source": [
    "plotPile(coordzList,displacementList,shearList,momentList)"
   ]
  },
  {
   "cell_type": "markdown",
   "id": "anonymous-lloyd",
   "metadata": {},
   "source": [
    "### 突出地面之樁-樁頭自由情形\n",
    "---"
   ]
  },
  {
   "cell_type": "code",
   "execution_count": 13,
   "id": "strategic-wednesday",
   "metadata": {
    "code_folding": [],
    "hide_input": false,
    "jupyter": {
     "source_hidden": true
    }
   },
   "outputs": [],
   "source": [
    "# 突出地面之樁-樁頭自由情形\n",
    "coordzList=[]  # m\n",
    "momentList=[]  # tf-m\n",
    "shearList=[]   # tf\n",
    "displacementList=[] # cm\n",
    "for i in range(num):\n",
    "    coordz = i * PILEDIVIDE\n",
    "    \n",
    "    if coordz < pile_ht:\n",
    "        coordz = (coordz - pile_ht)\n",
    "\n",
    "        displacementList.append(1000*forceH/(6*Ep*Ip*beta**3)*(\n",
    "            +beta**3*coordz**3\n",
    "            +3*beta**3*pile_ht*coordz**2\n",
    "            -3*beta*(1+2*beta*pile_ht)*coordz\n",
    "            +3*(1+beta*pile_ht)))\n",
    "        \n",
    "        momentList.append(-forceH/100*(coordz+pile_ht))\n",
    "        shearList.append(-forceH)\n",
    "                          \n",
    "    else:\n",
    "        coordz = (coordz - pile_ht)\n",
    "\n",
    "        displacementList.append(1000*forceH/(2*Ep*Ip*beta**3)*\n",
    "                                math.exp(-beta*coordz)*(\n",
    "            (1+beta*pile_ht)*math.cos(beta*coordz)-\n",
    "            (beta*pile_ht)*math.sin(beta*coordz)))\n",
    "        \n",
    "        momentList.append(-forceH/100/(beta)*math.exp(-beta*coordz)*(\n",
    "            (beta*pile_ht)*math.cos(beta*coordz)+\n",
    "            (1+beta*pile_ht)*math.sin(beta*coordz)))\n",
    "        shearList.append(-forceH*math.exp(-beta*coordz)*(\n",
    "            math.cos(beta*coordz)-(1+2*beta*pile_ht)*\n",
    "            math.sin(beta*coordz)))\n",
    "        \n",
    "    coordzList.append(-coordz/100)\n"
   ]
  },
  {
   "cell_type": "code",
   "execution_count": 14,
   "id": "advance-attempt",
   "metadata": {
    "hide_input": false
   },
   "outputs": [
    {
     "name": "stdout",
     "output_type": "stream",
     "text": [
      "     Depth          Moment           Shear    Displacement\n",
      "0     0.00          -0.000         -50.000           3.265\n",
      "1    -0.50         -21.900         -37.880           2.844\n",
      "2    -1.00         -38.155         -27.410           2.436\n",
      "3    -1.50         -49.574         -18.521           2.049\n",
      "4    -2.00         -56.924         -11.116           1.689\n",
      "..     ...             ...             ...             ...\n",
      "66  -33.00          -0.029           0.014          -0.000\n",
      "67  -33.50          -0.022           0.012          -0.000\n",
      "68  -34.00          -0.017           0.010          -0.000\n",
      "69  -34.50          -0.012           0.009          -0.000\n",
      "70  -35.00          -0.008           0.007          -0.000\n",
      "\n",
      "[71 rows x 4 columns]\n",
      "\n",
      "Moment        Max =    62.20 tf-m\n",
      "Shear         Max =    50.00 tf\n",
      "Displacement  Max =     3.27 cm\n"
     ]
    }
   ],
   "source": [
    "moment2, shear2, displacement2 = printDataFrame(coordzList,displacementList,momentList,shearList)"
   ]
  },
  {
   "cell_type": "code",
   "execution_count": 15,
   "id": "sixth-breakfast",
   "metadata": {
    "hide_input": true
   },
   "outputs": [
    {
     "data": {
      "image/png": "[encoded data removed]",
      "text/plain": [
       "<Figure size 864x432 with 3 Axes>"
      ]
     },
     "metadata": {
      "needs_background": "light"
     },
     "output_type": "display_data"
    }
   ],
   "source": [
    "plotPile(coordzList,displacementList,shearList,momentList)"
   ]
  },
  {
   "cell_type": "code",
   "execution_count": 16,
   "id": "productive-country",
   "metadata": {
    "hide_input": false
   },
   "outputs": [
    {
     "name": "stdout",
     "output_type": "stream",
     "text": [
      "Moment        Max =    96.47 tf-m\n",
      "Shear         Max =    50.00 tf\n"
     ]
    }
   ],
   "source": [
    "print(f\"Moment        Max = {max(moment1,moment2):8.2f} tf-m\")\n",
    "print(f\"Shear         Max = {max(shear1,shear2):8.2f} tf\")"
   ]
  }
 ],
 "metadata": {
  "hide_input": false,
  "kernelspec": {
   "display_name": "Python 3 (ipykernel)",
   "language": "python",
   "name": "python3"
  },
  "language_info": {
   "codemirror_mode": {
    "name": "ipython",
    "version": 3
   },
   "file_extension": ".py",
   "mimetype": "text/x-python",
   "name": "python",
   "nbconvert_exporter": "python",
   "pygments_lexer": "ipython3",
   "version": "3.9.1"
  },
  "latex_envs": {
   "LaTeX_envs_menu_present": true,
   "autoclose": false,
   "autocomplete": true,
   "bibliofile": "biblio.bib",
   "cite_by": "apalike",
   "current_citInitial": 1,
   "eqLabelWithNumbers": true,
   "eqNumInitial": 1,
   "hotkeys": {
    "equation": "Ctrl-E",
    "itemize": "Ctrl-I"
   },
   "labels_anchors": false,
   "latex_user_defs": false,
   "report_style_numbering": false,
   "user_envs_cfg": false
  },
  "toc": {
   "base_numbering": 1,
   "nav_menu": {},
   "number_sections": true,
   "sideBar": true,
   "skip_h1_title": false,
   "title_cell": "Table of Contents",
   "title_sidebar": "Contents",
   "toc_cell": false,
   "toc_position": {
    "height": "calc(100% - 180px)",
    "left": "10px",
    "top": "150px",
    "width": "165px"
   },
   "toc_section_display": true,
   "toc_window_display": false
  },
  "toc-autonumbering": true,
  "varInspector": {
   "cols": {
    "lenName": 16,
    "lenType": 16,
    "lenVar": 40
   },
   "kernels_config": {
    "python": {
     "delete_cmd_postfix": "",
     "delete_cmd_prefix": "del ",
     "library": "var_list.py",
     "varRefreshCmd": "print(var_dic_list())"
    },
    "r": {
     "delete_cmd_postfix": ") ",
     "delete_cmd_prefix": "rm(",
     "library": "var_list.r",
     "varRefreshCmd": "cat(var_dic_list()) "
    }
   },
   "types_to_exclude": [
    "module",
    "function",
    "builtin_function_or_method",
    "instance",
    "_Feature"
   ],
   "window_display": false
  },
  "vscode": {
   "interpreter": {
    "hash": "82ed002fa2d4956f5c6aec99bcefe0f73a9f79882f3c9e2319b14958a5896ac5"
   }
  }
 },
 "nbformat": 4,
 "nbformat_minor": 5
}
